{
  "nbformat": 4,
  "nbformat_minor": 0,
  "metadata": {
    "colab": {
      "name": "fis-tsukamoto.ipynb",
      "version": "0.3.2",
      "provenance": [],
      "collapsed_sections": []
    },
    "kernelspec": {
      "name": "python3",
      "display_name": "Python 3"
    }
  },
  "cells": [
    {
      "metadata": {
        "id": "9JZxzFdoXnL9",
        "colab_type": "code",
        "colab": {}
      },
      "cell_type": "code",
      "source": [
        "#Initialization\n",
        "\n",
        "x_min = 1000\n",
        "x_max = 5000\n",
        "\n",
        "y_min = 100\n",
        "y_max = 600\n",
        "\n",
        "z_min = 2000\n",
        "z_max = 7000"
      ],
      "execution_count": 0,
      "outputs": []
    },
    {
      "metadata": {
        "id": "IenNufXzb4vr",
        "colab_type": "code",
        "colab": {}
      },
      "cell_type": "code",
      "source": [
        "#Qst\n",
        "\n",
        "x = 4000\n",
        "y = 300"
      ],
      "execution_count": 0,
      "outputs": []
    },
    {
      "metadata": {
        "id": "_W_t2PuGcAN5",
        "colab_type": "code",
        "colab": {}
      },
      "cell_type": "code",
      "source": [
        "# [1] Fuzzification\n",
        "\n",
        "def demandUp(demand):\n",
        "  if demand <= x_min:\n",
        "    x_demand = 1\n",
        "  elif demand >=x_min and demand <=x_max:\n",
        "    x_demand = ((demand-x_min)/(x_max-x_min))\n",
        "  else:\n",
        "    x_demand = 0\n",
        "  return x_demand\n",
        "\n",
        "def demandDown(demand):\n",
        "  if demand <= x_min:\n",
        "    x_demand = 0\n",
        "  elif demand >=x_min and demand <=x_max:\n",
        "    x_demand = ((x_max-demand)/(x_max-x_min))\n",
        "  else:\n",
        "    x_demand = 1\n",
        "  return x_demand\n",
        "\n",
        "def supplyDecrease(supply):\n",
        "  if supply <= y_min:\n",
        "    y_supply = 1\n",
        "  elif supply >=y_min and supply <=y_max:\n",
        "    y_supply = ((y_max-supply)/(y_max-y_min))\n",
        "  else:\n",
        "    y_supply = 0\n",
        "  return y_supply\n",
        "\n",
        "def supplyIncrease(supply):\n",
        "  if supply <= y_min:\n",
        "    y_supply = 0\n",
        "  elif supply >=y_min and supply <=y_max:\n",
        "    y_supply = ((supply-y_min)/(y_max-y_min))\n",
        "  else:\n",
        "    y_supply = 1\n",
        "  return y_supply\n",
        "\n",
        "\n",
        "demand_up = demandUp(x)\n",
        "demand_down = demandDown(x)\n",
        "\n",
        "supply_decrease = supplyDecrease(y)\n",
        "supply_increase = supplyIncrease(y)"
      ],
      "execution_count": 0,
      "outputs": []
    },
    {
      "metadata": {
        "id": "hW4LPfhSzDgw",
        "colab_type": "code",
        "colab": {}
      },
      "cell_type": "code",
      "source": [
        "# [2] Implication\n",
        "\n",
        "# Rule 1\n",
        "# if demand falls and supply is high, the production decreases\n",
        "pred_1 = min([demand_down, supply_increase])\n",
        "\n",
        "# Rule 2\n",
        "# if demand falls and supply is small, production decreases\n",
        "pred_2 = min([demand_down, supply_decrease])\n",
        "\n",
        "# Rule 3\n",
        "# if demand rises and supply is high, production increases\n",
        "pred_3 = min([demand_up, supply_increase])\n",
        "\n",
        "# Rule 4\n",
        "# if demand rises and supply is small, production increases\n",
        "pred_4 = min([demand_up, supply_decrease])\n",
        "\n",
        "\n",
        "# Find z1, z2, z3 & z4\n",
        "def z1(pred1):\n",
        "  if ((pred1 > 0) and (pred1 < 1)):\n",
        "    z1 = (z_max-pred1*(z_max-z_min))\n",
        "  elif (pred1 == 1):\n",
        "    z1 = z_min\n",
        "  elif (pred1 == 0):\n",
        "    z1 = z_max\n",
        "  return z1\n",
        "\n",
        "\n",
        "def z2(pred2):\n",
        "  if ((pred2 > 0) and (pred2 < 1)):\n",
        "    z2 = (z_max-pred2*(z_max-z_min))\n",
        "  elif (pred2 == 1):\n",
        "    z2 = z_min\n",
        "  elif (pred2 == 0):\n",
        "    z2 = z_max\n",
        "  return z2\n",
        "\n",
        "def z3(pred3):\n",
        "  if ((pred3 > 0) and (pred3 < 1)):\n",
        "    z3 = (pred3*(z_max-z_min)+z_min)\n",
        "  elif (pred3 == 1):\n",
        "    z3 = z_min\n",
        "  elif (pred3 == 0):\n",
        "    z3 = z_max\n",
        "  return z3\n",
        "\n",
        "def z4(pred4):\n",
        "  if ((pred4 > 0) and (pred4 < 1)):\n",
        "    z4 = (pred4*(z_max-z_min)+z_min)\n",
        "  elif (pred4 == 1):\n",
        "    z4 = z_min\n",
        "  elif (pred4 == 0):\n",
        "    z4 = z_max\n",
        "  return z4\n",
        "\n",
        "z_1 = z1(pred_1)\n",
        "z_2 = z2(pred_2)\n",
        "z_3 = z3(pred_3)\n",
        "z_4 = z4(pred_4)"
      ],
      "execution_count": 0,
      "outputs": []
    },
    {
      "metadata": {
        "id": "KjbgbZzM4MS7",
        "colab_type": "code",
        "colab": {}
      },
      "cell_type": "code",
      "source": [
        "# [3] Defuzzyfication\n",
        "\n",
        "Z = ((pred_1*z_1)+(pred_2*z_2)+(pred_3*z_3)+(pred_4*z_4))/(pred_1+pred_2+pred_3+pred_4)"
      ],
      "execution_count": 0,
      "outputs": []
    },
    {
      "metadata": {
        "id": "KFPZdX1Em0Zx",
        "colab_type": "code",
        "outputId": "b1e9a069-bf38-4271-f011-79e0676e3bbd",
        "colab": {
          "base_uri": "https://localhost:8080/",
          "height": 35
        }
      },
      "cell_type": "code",
      "source": [
        "print('The amount of food that must be produced are', round(Z) ,'packages')"
      ],
      "execution_count": 6,
      "outputs": [
        {
          "output_type": "stream",
          "text": [
            "The amount of food that must be produced are 4983 packages\n"
          ],
          "name": "stdout"
        }
      ]
    }
  ]
}